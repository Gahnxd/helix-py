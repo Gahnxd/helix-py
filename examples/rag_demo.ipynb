{
 "cells": [
  {
   "cell_type": "code",
   "execution_count": 88,
   "id": "48e3c2c3-cae0-4ee1-a25c-55fe498e8601",
   "metadata": {},
   "outputs": [
    {
     "name": "stderr",
     "output_type": "stream",
     "text": [
      "huggingface/tokenizers: The current process just got forked, after parallelism has already been used. Disabling parallelism to avoid deadlocks...\n",
      "To disable this warning, you can either:\n",
      "\t- Avoid using `tokenizers` before the fork if possible\n",
      "\t- Explicitly set the environment variable TOKENIZERS_PARALLELISM=(true | false)\n"
     ]
    },
    {
     "name": "stdout",
     "output_type": "stream",
     "text": [
      "\n",
      "\u001b[1m[\u001b[0m\u001b[34;49mnotice\u001b[0m\u001b[1;39;49m]\u001b[0m\u001b[39;49m A new release of pip is available: \u001b[0m\u001b[31;49m25.0.1\u001b[0m\u001b[39;49m -> \u001b[0m\u001b[32;49m25.1.1\u001b[0m\n",
      "\u001b[1m[\u001b[0m\u001b[34;49mnotice\u001b[0m\u001b[1;39;49m]\u001b[0m\u001b[39;49m To update, run: \u001b[0m\u001b[32;49mpip install --upgrade pip\u001b[0m\n"
     ]
    }
   ],
   "source": [
    "!pip install -q chonkie docling model2vec rich torch transformers tqdm requests /Users/ln/dev/helix-py"
   ]
  },
  {
   "cell_type": "code",
   "execution_count": 128,
   "id": "2b7b0978-eb61-4447-8531-daac1da168b7",
   "metadata": {},
   "outputs": [],
   "source": [
    "from chonkie import RecursiveChunker, RecursiveRules, RecursiveLevel\n",
    "from docling.document_converter import DocumentConverter\n",
    "from transformers import AutoTokenizer, AutoModel\n",
    "from rich.console import Console\n",
    "from rich.text import Text\n",
    "from typing import List\n",
    "import numpy as np\n",
    "import os\n",
    "import torch\n",
    "from tqdm import tqdm\n",
    "import requests\n",
    "\n",
    "import helix\n",
    "from helix.client import ragloaddocs, ragsearchdocs"
   ]
  },
  {
   "cell_type": "code",
   "execution_count": 96,
   "id": "4b7f8ea5-540b-496a-bad5-6a4882d4b77d",
   "metadata": {},
   "outputs": [],
   "source": [
    "console = Console()\n",
    "\n",
    "# A wrapper to pretty print\n",
    "def rprint(text: str, console: Console=console, width: int = 80) -> None:\n",
    "  richtext = Text(text)\n",
    "  console.print(richtext.wrap(console, width=width))"
   ]
  },
  {
   "cell_type": "code",
   "execution_count": 97,
   "id": "5e93c5d0-e4af-4a8a-8e7d-2614876065b5",
   "metadata": {},
   "outputs": [],
   "source": [
    "tokenizer = AutoTokenizer.from_pretrained(\"allenai/scibert_scivocab_uncased\")\n",
    "model = AutoModel.from_pretrained(\"allenai/scibert_scivocab_uncased\")"
   ]
  },
  {
   "cell_type": "code",
   "execution_count": 98,
   "id": "589615a2-919a-4f03-9afe-3586415523b0",
   "metadata": {},
   "outputs": [],
   "source": [
    "helix_docs_endpoints = [\n",
    "        \"https://docs.helix-db.com/info/hql\",\n",
    "        \"https://docs.helix-db.com/introduction/cookbook/basic\",\n",
    "        \"https://docs.helix-db.com/get-started/installation\",\n",
    "        \"https://docs.helix-db.com/get-started/sql-ingestion\"\n",
    "        \"https://docs.helix-db.com/hql/schema-definition\",\n",
    "        \"https://docs.helix-db.com/hql/query-structure\",\n",
    "        \"https://docs.helix-db.com/hql/source/source\",\n",
    "        \"https://docs.helix-db.com/hql/source/adding\",\n",
    "        \"https://docs.helix-db.com/hql/steps/traversals/steps_nodes\",\n",
    "        \"https://docs.helix-db.com/hql/steps/traversals/steps_edges\",\n",
    "        \"https://docs.helix-db.com/hql/steps/conditions\",\n",
    "        \"https://docs.helix-db.com/hql/steps/anonymous\",\n",
    "        \"https://docs.helix-db.com/hql/steps/properties/property-access\",\n",
    "        \"https://docs.helix-db.com/hql/steps/properties/property-additions\",\n",
    "        \"https://docs.helix-db.com/hql/steps/properties/property-exclusion\",\n",
    "        \"https://docs.helix-db.com/hql/steps/properties/property-remappings\",\n",
    "        \"https://docs.helix-db.com/hql/steps/deleting\",\n",
    "        \"https://docs.helix-db.com/hql/steps/updating\",\n",
    "        \"https://docs.helix-db.com/hql/steps/operations\",\n",
    "        \"https://docs.helix-db.com/hql/vectors/inserting\",\n",
    "        \"https://docs.helix-db.com/hql/vectors/searching\",\n",
    "        \"https://docs.helix-db.com/hql/types\"\n",
    "]"
   ]
  },
  {
   "cell_type": "code",
   "execution_count": 99,
   "id": "a869854e-c324-475e-b53e-71b58081b878",
   "metadata": {},
   "outputs": [],
   "source": [
    "converter = DocumentConverter()\n",
    "results = [converter.convert(doc) for doc in helix_docs_endpoints]\n",
    "text_results = [res.document.export_to_markdown() for res in results]\n",
    "text = \"\\n\".join(text_results)"
   ]
  },
  {
   "cell_type": "code",
   "execution_count": 89,
   "id": "ba3b02d6-0d3d-4384-8a90-fc70564165d7",
   "metadata": {},
   "outputs": [],
   "source": [
    "#rprint(text)"
   ]
  },
  {
   "cell_type": "code",
   "execution_count": 112,
   "id": "4c4989d4-f62a-416f-a133-563c0dc28e38",
   "metadata": {},
   "outputs": [],
   "source": [
    "rules = RecursiveRules(\n",
    "    levels=[\n",
    "        RecursiveLevel(delimiters=['######', '#####', '####', '###', '##', '#']),\n",
    "        RecursiveLevel(delimiters=['\\n\\n', '\\n', '\\r\\n', '\\r']),\n",
    "        RecursiveLevel(delimiters='.?!;:'),\n",
    "        RecursiveLevel()\n",
    "    ]\n",
    ")\n",
    "chunker = RecursiveChunker(rules=rules, chunk_size=200)"
   ]
  },
  {
   "cell_type": "code",
   "execution_count": 113,
   "id": "e235440a-70d3-47f0-80d4-c3ee7362f39a",
   "metadata": {},
   "outputs": [
    {
     "name": "stdout",
     "output_type": "stream",
     "text": [
      "Total number of chunks: 30\n"
     ]
    },
    {
     "data": {
      "text/html": [
       "<pre style=\"white-space:pre;overflow-x:auto;line-height:normal;font-family:Menlo,'DejaVu Sans Mono',consolas,'Courier New',monospace\">##### Introduction\n",
       "\n",
       "- Overview\n",
       "- Examples\n",
       "\n",
       "##### What is HelixDB?\n",
       "\n",
       "- HelixDB Overview\n",
       "- What is a Graph Database?\n",
       "- What is a Vector Database?\n",
       "- What is a HQL?\n",
       "\n",
       "##### Get Started\n",
       "\n",
       "- Installation\n",
       "- Exporting SQL To Helix\n",
       "\n",
       "##### HelixQL\n",
       "\n",
       "- Schema Definition\n",
       "- Query Structure\n",
       "- Traversal Steps\n",
       "- Operations\n",
       "- Properties\n",
       "- Conditions\n",
       "\n",
       "What is HelixDB?\n",
       "\n",
       "# What is a HQL?\n",
       "\n",
       "Helix Query Language (HQL) is a powerful graph traversal and similarity search \n",
       "query language\n",
       "\n",
       "Helix Query Language (HQL) is a specialized query language designed for HelixDB \n",
       "that enables powerful graph traversal and similarity search operations. It \n",
       "provides an intuitive way to explore and analyze connected data structures while\n",
       "incorporating advanced similarity search capabilities.\n",
       "\n",
       "#\n",
       "</pre>\n"
      ],
      "text/plain": [
       "##### Introduction\n",
       "\n",
       "- Overview\n",
       "- Examples\n",
       "\n",
       "##### What is HelixDB?\n",
       "\n",
       "- HelixDB Overview\n",
       "- What is a Graph Database?\n",
       "- What is a Vector Database?\n",
       "- What is a HQL?\n",
       "\n",
       "##### Get Started\n",
       "\n",
       "- Installation\n",
       "- Exporting SQL To Helix\n",
       "\n",
       "##### HelixQL\n",
       "\n",
       "- Schema Definition\n",
       "- Query Structure\n",
       "- Traversal Steps\n",
       "- Operations\n",
       "- Properties\n",
       "- Conditions\n",
       "\n",
       "What is HelixDB?\n",
       "\n",
       "# What is a HQL?\n",
       "\n",
       "Helix Query Language (HQL) is a powerful graph traversal and similarity search \n",
       "query language\n",
       "\n",
       "Helix Query Language (HQL) is a specialized query language designed for HelixDB \n",
       "that enables powerful graph traversal and similarity search operations. It \n",
       "provides an intuitive way to explore and analyze connected data structures while\n",
       "incorporating advanced similarity search capabilities.\n",
       "\n",
       "#\n"
      ]
     },
     "metadata": {},
     "output_type": "display_data"
    },
    {
     "name": "stdout",
     "output_type": "stream",
     "text": [
      "-------------------------------------------------------------------------------- \n",
      "\n",
      "\n"
     ]
    },
    {
     "data": {
      "text/html": [
       "<pre style=\"white-space:pre;overflow-x:auto;line-height:normal;font-family:Menlo,'DejaVu Sans Mono',consolas,'Courier New',monospace\"># ​Key Features\n",
       "\n",
       "- Graph Traversal: Navigate through connected data points and relationships with\n",
       "ease\n",
       "- Similarity Search: Perform semantic and vector-based similarity searches \n",
       "across your data\n",
       "- Flexible Query Structure: Write expressive queries that combine both graph \n",
       "traversal and similarity search operations\n",
       "- Optimized Performance: Built specifically for Helix’s architecture to ensure \n",
       "efficient query execution\n",
       "\n",
       "HQL makes it simple to express complex data relationships and find similar items\n",
       "in your dataset. Whether you’re looking to traverse a knowledge graph, find \n",
       "semantically similar content, or combine both operations, HQL provides the tools\n",
       "you need to effectively query your data.\n",
       "\n",
       "## ​Documentation\n",
       "\n",
       "## Schema Definition\n",
       "\n",
       "Define and understand HQL schemas for your data\n",
       "\n",
       "## Query Structure\n",
       "\n",
       "Learn the basic structure and syntax of HQL queries\n",
       "\n",
       "#\n",
       "</pre>\n"
      ],
      "text/plain": [
       "# ​Key Features\n",
       "\n",
       "- Graph Traversal: Navigate through connected data points and relationships with\n",
       "ease\n",
       "- Similarity Search: Perform semantic and vector-based similarity searches \n",
       "across your data\n",
       "- Flexible Query Structure: Write expressive queries that combine both graph \n",
       "traversal and similarity search operations\n",
       "- Optimized Performance: Built specifically for Helix’s architecture to ensure \n",
       "efficient query execution\n",
       "\n",
       "HQL makes it simple to express complex data relationships and find similar items\n",
       "in your dataset. Whether you’re looking to traverse a knowledge graph, find \n",
       "semantically similar content, or combine both operations, HQL provides the tools\n",
       "you need to effectively query your data.\n",
       "\n",
       "## ​Documentation\n",
       "\n",
       "## Schema Definition\n",
       "\n",
       "Define and understand HQL schemas for your data\n",
       "\n",
       "## Query Structure\n",
       "\n",
       "Learn the basic structure and syntax of HQL queries\n",
       "\n",
       "#\n"
      ]
     },
     "metadata": {},
     "output_type": "display_data"
    },
    {
     "name": "stdout",
     "output_type": "stream",
     "text": [
      "-------------------------------------------------------------------------------- \n",
      "\n",
      "\n"
     ]
    },
    {
     "data": {
      "text/html": [
       "<pre style=\"white-space:pre;overflow-x:auto;line-height:normal;font-family:Menlo,'DejaVu Sans Mono',consolas,'Courier New',monospace\"># Traversal Steps\n",
       "\n",
       "Master graph traversal operations in HQL\n",
       "\n",
       "## Operations\n",
       "\n",
       "Explore available operations and functions\n",
       "\n",
       "## Property Access\n",
       "\n",
       "Learn how to access and manipulate data properties\n",
       "\n",
       "Was this page helpful?\n",
       "\n",
       "- Key Features\n",
       "- Documentation\n",
       "##### Introduction\n",
       "\n",
       "- Overview\n",
       "- Examples\n",
       "\n",
       "##### What is HelixDB?\n",
       "\n",
       "- HelixDB Overview\n",
       "- What is a Graph Database?\n",
       "- What is a Vector Database?\n",
       "- What is a HQL?\n",
       "\n",
       "##### Get Started\n",
       "\n",
       "- Installation\n",
       "- Exporting SQL To Helix\n",
       "\n",
       "##### HelixQL\n",
       "\n",
       "- Schema Definition\n",
       "- Query Structure\n",
       "- Traversal Steps\n",
       "- Operations\n",
       "- Properties\n",
       "- Conditions\n",
       "\n",
       "Introduction\n",
       "\n",
       "#\n",
       "</pre>\n"
      ],
      "text/plain": [
       "# Traversal Steps\n",
       "\n",
       "Master graph traversal operations in HQL\n",
       "\n",
       "## Operations\n",
       "\n",
       "Explore available operations and functions\n",
       "\n",
       "## Property Access\n",
       "\n",
       "Learn how to access and manipulate data properties\n",
       "\n",
       "Was this page helpful?\n",
       "\n",
       "- Key Features\n",
       "- Documentation\n",
       "##### Introduction\n",
       "\n",
       "- Overview\n",
       "- Examples\n",
       "\n",
       "##### What is HelixDB?\n",
       "\n",
       "- HelixDB Overview\n",
       "- What is a Graph Database?\n",
       "- What is a Vector Database?\n",
       "- What is a HQL?\n",
       "\n",
       "##### Get Started\n",
       "\n",
       "- Installation\n",
       "- Exporting SQL To Helix\n",
       "\n",
       "##### HelixQL\n",
       "\n",
       "- Schema Definition\n",
       "- Query Structure\n",
       "- Traversal Steps\n",
       "- Operations\n",
       "- Properties\n",
       "- Conditions\n",
       "\n",
       "Introduction\n",
       "\n",
       "#\n"
      ]
     },
     "metadata": {},
     "output_type": "display_data"
    },
    {
     "name": "stdout",
     "output_type": "stream",
     "text": [
      "-------------------------------------------------------------------------------- \n",
      "\n",
      "\n"
     ]
    },
    {
     "data": {
      "text/html": [
       "<pre style=\"white-space:pre;overflow-x:auto;line-height:normal;font-family:Menlo,'DejaVu Sans Mono',consolas,'Courier New',monospace\"> Overview\n",
       "\n",
       "HelixDB is a high-performance graph-vector database with its own query language,\n",
       "Helix Query Language (HQL), designed for traversing and manipulating graph and \n",
       "vector data efficiently.\n",
       "\n",
       "## HelixDB Overview\n",
       "\n",
       "Learn about HelixDB’s architecture, features, and use cases\n",
       "\n",
       "## Installation\n",
       "\n",
       "Learn how to set up HelixDB locally or in the cloud\n",
       "\n",
       "## SQL Migration\n",
       "\n",
       "Learn how to migrate your SQL data into HelixDB\n",
       "\n",
       "## HQL (Helix Query Language)\n",
       "\n",
       "Get started with Helix Query Language\n",
       "\n",
       "Was this page helpful?\n",
       "##### Introduction\n",
       "\n",
       "- Overview\n",
       "- Examples\n",
       "\n",
       "##### What is HelixDB?\n",
       "\n",
       "- HelixDB Overview\n",
       "- What is a Graph Database?\n",
       "- What is a Vector Database?\n",
       "- What is a HQL?\n",
       "\n",
       "#\n",
       "</pre>\n"
      ],
      "text/plain": [
       " Overview\n",
       "\n",
       "HelixDB is a high-performance graph-vector database with its own query language,\n",
       "Helix Query Language (HQL), designed for traversing and manipulating graph and \n",
       "vector data efficiently.\n",
       "\n",
       "## HelixDB Overview\n",
       "\n",
       "Learn about HelixDB’s architecture, features, and use cases\n",
       "\n",
       "## Installation\n",
       "\n",
       "Learn how to set up HelixDB locally or in the cloud\n",
       "\n",
       "## SQL Migration\n",
       "\n",
       "Learn how to migrate your SQL data into HelixDB\n",
       "\n",
       "## HQL (Helix Query Language)\n",
       "\n",
       "Get started with Helix Query Language\n",
       "\n",
       "Was this page helpful?\n",
       "##### Introduction\n",
       "\n",
       "- Overview\n",
       "- Examples\n",
       "\n",
       "##### What is HelixDB?\n",
       "\n",
       "- HelixDB Overview\n",
       "- What is a Graph Database?\n",
       "- What is a Vector Database?\n",
       "- What is a HQL?\n",
       "\n",
       "#\n"
      ]
     },
     "metadata": {},
     "output_type": "display_data"
    },
    {
     "name": "stdout",
     "output_type": "stream",
     "text": [
      "-------------------------------------------------------------------------------- \n",
      "\n",
      "\n"
     ]
    }
   ],
   "source": [
    "chunks = chunker(text)\n",
    "print(f\"Total number of chunks: {len(chunks)}\")\n",
    "# @title A quick look at our chunks~\n",
    "for chunk in chunks[:4]:\n",
    "    rprint(chunk.text)\n",
    "    print('-'*80, '\\n\\n')"
   ]
  },
  {
   "cell_type": "code",
   "execution_count": 114,
   "id": "79c59d3e-aa3f-407d-8246-6896f9cdc2e4",
   "metadata": {},
   "outputs": [],
   "source": [
    "def vectorize_text(text):\n",
    "    inputs = tokenizer(text, return_tensors=\"pt\", truncation=True, padding=True, max_length=512)\n",
    "    with torch.no_grad():\n",
    "        outputs = model(**inputs)\n",
    "        embedding = outputs.last_hidden_state[:, 0, :].squeeze().tolist()\n",
    "    return embedding\n",
    "\n",
    "def vectorize_chunked(chunked: List[str]) -> List[List[float]]:\n",
    "    # embedding dims: 768\n",
    "    vectorized = []\n",
    "    for chunk in tqdm(chunked):\n",
    "        embedding = vectorize_text(chunk)\n",
    "        vectorized.append(embedding)\n",
    "    return vectorized"
   ]
  },
  {
   "cell_type": "code",
   "execution_count": 115,
   "id": "ea81ee1d-a316-47f8-ac80-8027931f7333",
   "metadata": {},
   "outputs": [
    {
     "name": "stderr",
     "output_type": "stream",
     "text": [
      "100%|█████████████████████████████████████████████████████████████████████████████████████████████████████████████████████████| 30/30 [00:03<00:00,  9.98it/s]"
     ]
    },
    {
     "name": "stdout",
     "output_type": "stream",
     "text": [
      "30\n"
     ]
    },
    {
     "name": "stderr",
     "output_type": "stream",
     "text": [
      "\n"
     ]
    }
   ],
   "source": [
    "items = [chunk.text for chunk in chunks]\n",
    "vectors = vectorize_chunked(items)\n",
    "print(f\"doc length: {len(text)} chars, num of vectors: {len(vectors)}\")"
   ]
  },
  {
   "cell_type": "code",
   "execution_count": 116,
   "id": "a2c28937-cbf1-44f5-99b8-53517cad72e9",
   "metadata": {},
   "outputs": [
    {
     "name": "stdout",
     "output_type": "stream",
     "text": [
      "doc length: 19802 chars, num of vectors: 30\n"
     ]
    }
   ],
   "source": []
  },
  {
   "cell_type": "code",
   "execution_count": 117,
   "id": "8b3d1040-15b9-4a1a-82c5-3d9dd4758850",
   "metadata": {},
   "outputs": [],
   "source": [
    "OLLAMA_API_URL = \"http://localhost:11434/api/generate\"\n",
    "\n",
    "def get_ollama_response(prompt):\n",
    "    payload = {\n",
    "        #\"model\": \"deepseek-r1:7b\",\n",
    "        \"model\": \"llama3.1:8b\",\n",
    "        \"prompt\": prompt,\n",
    "        \"stream\": False\n",
    "    }\n",
    "    response = requests.post(OLLAMA_API_URL, json=payload)\n",
    "    if response.status_code == 200:\n",
    "        return response.json()[\"response\"]\n",
    "    else:\n",
    "        raise Exception(f\"Ollama API request failed with status {response.status_code}\")"
   ]
  },
  {
   "cell_type": "code",
   "execution_count": 72,
   "id": "7f20e146-a1fa-47d1-9c0e-c7c52fa777aa",
   "metadata": {},
   "outputs": [
    {
     "ename": "SyntaxError",
     "evalue": "unterminated string literal (detected at line 5) (4255936425.py, line 5)",
     "output_type": "error",
     "traceback": [
      "\u001b[0;36m  Cell \u001b[0;32mIn[72], line 5\u001b[0;36m\u001b[0m\n\u001b[0;31m    You will be given 4 passages in the context, marked with a label 'Doc [1]:' to denote the passage number. Use that number for citations. Answer only from the given context, and if there's no appropriate context, reply \"No relevant context found!\".\u001b[0m\n\u001b[0m                                                                                                                                                                                             ^\u001b[0m\n\u001b[0;31mSyntaxError\u001b[0m\u001b[0;31m:\u001b[0m unterminated string literal (detected at line 5)\n"
     ]
    }
   ],
   "source": [
    "\"\"\"\n",
    "def create_prompt(chunks: List[str], query: str) -> str:\n",
    "  prompt_template = \"\"\"<instructions>\n",
    "  Based on the provided contexts, answer the given question to the best of your ability. Remember to also add citations at appropriate points in the format of square brackets like [1][2][3], especially at sentence or paragraph endings.\n",
    "  You will be given 4 passages in the context, marked with a label 'Doc [1]:' to denote the passage number. Use that number for citations. Answer only from the given context, and if there's no appropriate context, reply \"No relevant context found!\".\n",
    "  </instructions>\n",
    "\n",
    "  <context>\n",
    "  {context}\n",
    "  </context>\n",
    "\n",
    "  <query>\n",
    "  {query}\n",
    "  </query>\n",
    "  \"\"\"\n",
    "  context = \"\\n\\n\".join([f\"Doc {i+1}: {chunk}\" for i, chunk in enumerate(chunks)])\n",
    "  prompt = prompt_template.format(context=context, query=query)\n",
    "  return prompt\n",
    "\"\"\""
   ]
  },
  {
   "cell_type": "code",
   "execution_count": 118,
   "id": "67586d5b-6fe3-4b46-8e8f-7d3f49cd64e0",
   "metadata": {},
   "outputs": [],
   "source": [
    "def create_prompt(user_prompt: str, context):\n",
    "    reformated_prompt = f\"\"\"<instructions>\n",
    "    Based on the provided contexts, answer the given question to the best of your ability. Answer only from the given context.\"\n",
    "    </instructions>\n",
    "\n",
    "    <context>\n",
    "    {context}\n",
    "    </context>\n",
    "\n",
    "    <query>\n",
    "    {user_prompt}\n",
    "    </query>\n",
    "    \"\"\"\n",
    "\n",
    "    return reformated_prompt"
   ]
  },
  {
   "cell_type": "code",
   "execution_count": 123,
   "id": "5fac5349-271e-45fe-9e92-23773af0d11e",
   "metadata": {},
   "outputs": [
    {
     "name": "stdout",
     "output_type": "stream",
     "text": [
      "\u001b[32m[HELIX]\u001b[0m Helix instance found at 'http://0.0.0.0:6969'\n"
     ]
    }
   ],
   "source": [
    "db = helix.Client(local=True)\n",
    "\n",
    "# insert all the docs to vectors into helix\n",
    "db.query(ragloaddocs([(text, vectors)])"
   ]
  },
  {
   "cell_type": "code",
   "execution_count": 133,
   "id": "04e1118d-a8c3-4981-ad95-102d87a1e6b7",
   "metadata": {},
   "outputs": [
    {
     "name": "stderr",
     "output_type": "stream",
     "text": [
      "\u001b[32m[HELIX]\u001b[0m Querying 'http://0.0.0.0:6969/ragsearchdocs': 100%|█████████████████████████████████████████████████████████████████████| 1/1 [00:00<00:00, 42.59it/s]\u001b[0m\n"
     ]
    },
    {
     "name": "stdout",
     "output_type": "stream",
     "text": [
      "reponse: In HelixQL, you can exclude a property from being returned in the query results by using the `NOT` keyword or the `EXCLUDE` clause.\n",
      "\n",
      "Here are a few examples:\n",
      "\n",
      "**Example 1: Using NOT**\n",
      "```helixql\n",
      "SELECT * FROM myentity WHERE name = 'John' AND NOT age\n",
      "```\n",
      "In this example, the `age` property will not be returned in the results.\n",
      "\n",
      "**Example 2: Using EXCLUDE**\n",
      "```helixql\n",
      "SELECT *, EXCLUDE(age) AS excluded FROM myentity WHERE name = 'John'\n",
      "```\n",
      "In this example, the `age` property will be excluded from the results and will only appear as a placeholder (in this case, with an alias of `excluded`).\n",
      "\n",
      "You can also use `EXCLUDE` to exclude multiple properties:\n",
      "```helixql\n",
      "SELECT *, EXCLUDE(age, city) AS excluded FROM myentity WHERE name = 'John'\n",
      "```\n",
      "Note that when using `NOT`, you should make sure that the property is not used in any aggregate functions (such as `SUM`, `AVG`, etc.) or in any calculations.\n",
      "\n",
      "When using `EXCLUDE`, be aware that it will only exclude the specified properties from being returned, but may still affect the performance of your query depending on the complexity of your data and the specific use case.\n"
     ]
    }
   ],
   "source": [
    "user_prompt = \"how do I exclude a property in helix ql?\"\n",
    "query_embedding = vectorize_text(user_prompt)\n",
    "res = db.query(ragsearchdocs(query_embedding, 4))[0][0]['content']\n",
    "response = get_ollama_response(create_prompt(user_prompt, res))\n",
    "print(f\"reponse: {response}\")"
   ]
  },
  {
   "cell_type": "code",
   "execution_count": null,
   "id": "9b36c5dc-701e-4cf6-9eed-03f62d7e3b9e",
   "metadata": {},
   "outputs": [],
   "source": []
  }
 ],
 "metadata": {
  "kernelspec": {
   "display_name": "notebook_venv",
   "language": "python",
   "name": "notebook_venv"
  },
  "language_info": {
   "codemirror_mode": {
    "name": "ipython",
    "version": 3
   },
   "file_extension": ".py",
   "mimetype": "text/x-python",
   "name": "python",
   "nbconvert_exporter": "python",
   "pygments_lexer": "ipython3",
   "version": "3.12.10"
  }
 },
 "nbformat": 4,
 "nbformat_minor": 5
}
