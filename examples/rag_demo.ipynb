{
 "cells": [
  {
   "cell_type": "code",
   "execution_count": 1,
   "id": "48e3c2c3-cae0-4ee1-a25c-55fe498e8601",
   "metadata": {},
   "outputs": [
    {
     "name": "stdout",
     "output_type": "stream",
     "text": [
      "\n",
      "\u001b[1m[\u001b[0m\u001b[34;49mnotice\u001b[0m\u001b[1;39;49m]\u001b[0m\u001b[39;49m A new release of pip is available: \u001b[0m\u001b[31;49m25.0.1\u001b[0m\u001b[39;49m -> \u001b[0m\u001b[32;49m25.1.1\u001b[0m\n",
      "\u001b[1m[\u001b[0m\u001b[34;49mnotice\u001b[0m\u001b[1;39;49m]\u001b[0m\u001b[39;49m To update, run: \u001b[0m\u001b[32;49mpip install --upgrade pip\u001b[0m\n"
     ]
    }
   ],
   "source": [
    "!pip install -q chonkie docling model2vec rich torch transformers tqdm requests /Users/ln/dev/helix-py"
   ]
  },
  {
   "cell_type": "code",
   "execution_count": 2,
   "id": "2b7b0978-eb61-4447-8531-daac1da168b7",
   "metadata": {},
   "outputs": [
    {
     "name": "stderr",
     "output_type": "stream",
     "text": [
      "/Users/ln/Downloads/notebook_venv/lib/python3.12/site-packages/tqdm/auto.py:21: TqdmWarning: IProgress not found. Please update jupyter and ipywidgets. See https://ipywidgets.readthedocs.io/en/stable/user_install.html\n",
      "  from .autonotebook import tqdm as notebook_tqdm\n"
     ]
    }
   ],
   "source": [
    "from chonkie import RecursiveChunker, RecursiveRules, RecursiveLevel\n",
    "from docling.document_converter import DocumentConverter\n",
    "from transformers import AutoTokenizer, AutoModel\n",
    "from rich.console import Console\n",
    "from rich.text import Text\n",
    "from typing import List\n",
    "import numpy as np\n",
    "import os\n",
    "import torch\n",
    "from tqdm import tqdm\n",
    "import requests\n",
    "\n",
    "import helix\n",
    "from helix.client import Query, ragloaddocs\n",
    "from helix.types import Payload"
   ]
  },
  {
   "cell_type": "code",
   "execution_count": 3,
   "id": "4b7f8ea5-540b-496a-bad5-6a4882d4b77d",
   "metadata": {},
   "outputs": [],
   "source": [
    "console = Console()\n",
    "\n",
    "# A wrapper to pretty print\n",
    "def rprint(text: str, console: Console=console, width: int = 80) -> None:\n",
    "  richtext = Text(text)\n",
    "  console.print(richtext.wrap(console, width=width))"
   ]
  },
  {
   "cell_type": "code",
   "execution_count": 4,
   "id": "5e93c5d0-e4af-4a8a-8e7d-2614876065b5",
   "metadata": {},
   "outputs": [],
   "source": [
    "tokenizer = AutoTokenizer.from_pretrained(\"allenai/scibert_scivocab_uncased\")\n",
    "model = AutoModel.from_pretrained(\"allenai/scibert_scivocab_uncased\")"
   ]
  },
  {
   "cell_type": "code",
   "execution_count": 5,
   "id": "589615a2-919a-4f03-9afe-3586415523b0",
   "metadata": {},
   "outputs": [],
   "source": [
    "helix_docs_endpoints = [\n",
    "        \"https://docs.helix-db.com/info/hql\",\n",
    "        \"https://docs.helix-db.com/introduction/cookbook/basic\",\n",
    "        \"https://docs.helix-db.com/get-started/installation\",\n",
    "        \"https://docs.helix-db.com/get-started/sql-ingestion\"\n",
    "        \"https://docs.helix-db.com/hql/schema-definition\",\n",
    "        \"https://docs.helix-db.com/hql/query-structure\",\n",
    "        \"https://docs.helix-db.com/hql/source/source\",\n",
    "        \"https://docs.helix-db.com/hql/source/adding\",\n",
    "        \"https://docs.helix-db.com/hql/steps/traversals/steps_nodes\",\n",
    "        \"https://docs.helix-db.com/hql/steps/traversals/steps_edges\",\n",
    "        \"https://docs.helix-db.com/hql/steps/conditions\",\n",
    "        \"https://docs.helix-db.com/hql/steps/anonymous\",\n",
    "        \"https://docs.helix-db.com/hql/steps/properties/property-access\",\n",
    "        \"https://docs.helix-db.com/hql/steps/properties/property-additions\",\n",
    "        \"https://docs.helix-db.com/hql/steps/properties/property-exclusion\",\n",
    "        \"https://docs.helix-db.com/hql/steps/properties/property-remappings\",\n",
    "        \"https://docs.helix-db.com/hql/steps/deleting\",\n",
    "        \"https://docs.helix-db.com/hql/steps/updating\",\n",
    "        \"https://docs.helix-db.com/hql/steps/operations\",\n",
    "        \"https://docs.helix-db.com/hql/vectors/inserting\",\n",
    "        \"https://docs.helix-db.com/hql/vectors/searching\",\n",
    "        \"https://docs.helix-db.com/hql/types\"\n",
    "]"
   ]
  },
  {
   "cell_type": "code",
   "execution_count": 6,
   "id": "a869854e-c324-475e-b53e-71b58081b878",
   "metadata": {},
   "outputs": [],
   "source": [
    "converter = DocumentConverter()\n",
    "results = [converter.convert(doc) for doc in helix_docs_endpoints]\n",
    "text_results = [res.document.export_to_markdown() for res in results]\n",
    "text = \"\\n\".join(text_results)\n",
    "#rprint(text)"
   ]
  },
  {
   "cell_type": "code",
   "execution_count": 7,
   "id": "4c4989d4-f62a-416f-a133-563c0dc28e38",
   "metadata": {},
   "outputs": [],
   "source": [
    "rules = RecursiveRules(\n",
    "    levels=[\n",
    "        RecursiveLevel(delimiters=['######', '#####', '####', '###', '##', '#']),\n",
    "        RecursiveLevel(delimiters=['\\n\\n', '\\n', '\\r\\n', '\\r']),\n",
    "        RecursiveLevel(delimiters='.?!;:'),\n",
    "        RecursiveLevel()\n",
    "    ]\n",
    ")\n",
    "chunker = RecursiveChunker(rules=rules, chunk_size=200)"
   ]
  },
  {
   "cell_type": "code",
   "execution_count": 8,
   "id": "e235440a-70d3-47f0-80d4-c3ee7362f39a",
   "metadata": {},
   "outputs": [
    {
     "name": "stdout",
     "output_type": "stream",
     "text": [
      "Total number of chunks: 30\n"
     ]
    },
    {
     "data": {
      "text/html": [
       "<pre style=\"white-space:pre;overflow-x:auto;line-height:normal;font-family:Menlo,'DejaVu Sans Mono',consolas,'Courier New',monospace\">##### Introduction\n",
       "\n",
       "- Overview\n",
       "- Examples\n",
       "\n",
       "##### What is HelixDB?\n",
       "\n",
       "- HelixDB Overview\n",
       "- What is a Graph Database?\n",
       "- What is a Vector Database?\n",
       "- What is a HQL?\n",
       "\n",
       "##### Get Started\n",
       "\n",
       "- Installation\n",
       "- Exporting SQL To Helix\n",
       "\n",
       "##### HelixQL\n",
       "\n",
       "- Schema Definition\n",
       "- Query Structure\n",
       "- Traversal Steps\n",
       "- Operations\n",
       "- Properties\n",
       "- Conditions\n",
       "\n",
       "What is HelixDB?\n",
       "\n",
       "# What is a HQL?\n",
       "\n",
       "Helix Query Language (HQL) is a powerful graph traversal and similarity search \n",
       "query language\n",
       "\n",
       "Helix Query Language (HQL) is a specialized query language designed for HelixDB \n",
       "that enables powerful graph traversal and similarity search operations. It \n",
       "provides an intuitive way to explore and analyze connected data structures while\n",
       "incorporating advanced similarity search capabilities.\n",
       "\n",
       "#\n",
       "</pre>\n"
      ],
      "text/plain": [
       "##### Introduction\n",
       "\n",
       "- Overview\n",
       "- Examples\n",
       "\n",
       "##### What is HelixDB?\n",
       "\n",
       "- HelixDB Overview\n",
       "- What is a Graph Database?\n",
       "- What is a Vector Database?\n",
       "- What is a HQL?\n",
       "\n",
       "##### Get Started\n",
       "\n",
       "- Installation\n",
       "- Exporting SQL To Helix\n",
       "\n",
       "##### HelixQL\n",
       "\n",
       "- Schema Definition\n",
       "- Query Structure\n",
       "- Traversal Steps\n",
       "- Operations\n",
       "- Properties\n",
       "- Conditions\n",
       "\n",
       "What is HelixDB?\n",
       "\n",
       "# What is a HQL?\n",
       "\n",
       "Helix Query Language (HQL) is a powerful graph traversal and similarity search \n",
       "query language\n",
       "\n",
       "Helix Query Language (HQL) is a specialized query language designed for HelixDB \n",
       "that enables powerful graph traversal and similarity search operations. It \n",
       "provides an intuitive way to explore and analyze connected data structures while\n",
       "incorporating advanced similarity search capabilities.\n",
       "\n",
       "#\n"
      ]
     },
     "metadata": {},
     "output_type": "display_data"
    },
    {
     "name": "stdout",
     "output_type": "stream",
     "text": [
      "-------------------------------------------------------------------------------- \n",
      "\n",
      "\n"
     ]
    },
    {
     "data": {
      "text/html": [
       "<pre style=\"white-space:pre;overflow-x:auto;line-height:normal;font-family:Menlo,'DejaVu Sans Mono',consolas,'Courier New',monospace\"># ​Key Features\n",
       "\n",
       "- Graph Traversal: Navigate through connected data points and relationships with\n",
       "ease\n",
       "- Similarity Search: Perform semantic and vector-based similarity searches \n",
       "across your data\n",
       "- Flexible Query Structure: Write expressive queries that combine both graph \n",
       "traversal and similarity search operations\n",
       "- Optimized Performance: Built specifically for Helix’s architecture to ensure \n",
       "efficient query execution\n",
       "\n",
       "HQL makes it simple to express complex data relationships and find similar items\n",
       "in your dataset. Whether you’re looking to traverse a knowledge graph, find \n",
       "semantically similar content, or combine both operations, HQL provides the tools\n",
       "you need to effectively query your data.\n",
       "\n",
       "## ​Documentation\n",
       "\n",
       "## Schema Definition\n",
       "\n",
       "Define and understand HQL schemas for your data\n",
       "\n",
       "## Query Structure\n",
       "\n",
       "Learn the basic structure and syntax of HQL queries\n",
       "\n",
       "#\n",
       "</pre>\n"
      ],
      "text/plain": [
       "# ​Key Features\n",
       "\n",
       "- Graph Traversal: Navigate through connected data points and relationships with\n",
       "ease\n",
       "- Similarity Search: Perform semantic and vector-based similarity searches \n",
       "across your data\n",
       "- Flexible Query Structure: Write expressive queries that combine both graph \n",
       "traversal and similarity search operations\n",
       "- Optimized Performance: Built specifically for Helix’s architecture to ensure \n",
       "efficient query execution\n",
       "\n",
       "HQL makes it simple to express complex data relationships and find similar items\n",
       "in your dataset. Whether you’re looking to traverse a knowledge graph, find \n",
       "semantically similar content, or combine both operations, HQL provides the tools\n",
       "you need to effectively query your data.\n",
       "\n",
       "## ​Documentation\n",
       "\n",
       "## Schema Definition\n",
       "\n",
       "Define and understand HQL schemas for your data\n",
       "\n",
       "## Query Structure\n",
       "\n",
       "Learn the basic structure and syntax of HQL queries\n",
       "\n",
       "#\n"
      ]
     },
     "metadata": {},
     "output_type": "display_data"
    },
    {
     "name": "stdout",
     "output_type": "stream",
     "text": [
      "-------------------------------------------------------------------------------- \n",
      "\n",
      "\n"
     ]
    },
    {
     "data": {
      "text/html": [
       "<pre style=\"white-space:pre;overflow-x:auto;line-height:normal;font-family:Menlo,'DejaVu Sans Mono',consolas,'Courier New',monospace\"># Traversal Steps\n",
       "\n",
       "Master graph traversal operations in HQL\n",
       "\n",
       "## Operations\n",
       "\n",
       "Explore available operations and functions\n",
       "\n",
       "## Property Access\n",
       "\n",
       "Learn how to access and manipulate data properties\n",
       "\n",
       "Was this page helpful?\n",
       "\n",
       "- Key Features\n",
       "- Documentation\n",
       "##### Introduction\n",
       "\n",
       "- Overview\n",
       "- Examples\n",
       "\n",
       "##### What is HelixDB?\n",
       "\n",
       "- HelixDB Overview\n",
       "- What is a Graph Database?\n",
       "- What is a Vector Database?\n",
       "- What is a HQL?\n",
       "\n",
       "##### Get Started\n",
       "\n",
       "- Installation\n",
       "- Exporting SQL To Helix\n",
       "\n",
       "##### HelixQL\n",
       "\n",
       "- Schema Definition\n",
       "- Query Structure\n",
       "- Traversal Steps\n",
       "- Operations\n",
       "- Properties\n",
       "- Conditions\n",
       "\n",
       "Introduction\n",
       "\n",
       "#\n",
       "</pre>\n"
      ],
      "text/plain": [
       "# Traversal Steps\n",
       "\n",
       "Master graph traversal operations in HQL\n",
       "\n",
       "## Operations\n",
       "\n",
       "Explore available operations and functions\n",
       "\n",
       "## Property Access\n",
       "\n",
       "Learn how to access and manipulate data properties\n",
       "\n",
       "Was this page helpful?\n",
       "\n",
       "- Key Features\n",
       "- Documentation\n",
       "##### Introduction\n",
       "\n",
       "- Overview\n",
       "- Examples\n",
       "\n",
       "##### What is HelixDB?\n",
       "\n",
       "- HelixDB Overview\n",
       "- What is a Graph Database?\n",
       "- What is a Vector Database?\n",
       "- What is a HQL?\n",
       "\n",
       "##### Get Started\n",
       "\n",
       "- Installation\n",
       "- Exporting SQL To Helix\n",
       "\n",
       "##### HelixQL\n",
       "\n",
       "- Schema Definition\n",
       "- Query Structure\n",
       "- Traversal Steps\n",
       "- Operations\n",
       "- Properties\n",
       "- Conditions\n",
       "\n",
       "Introduction\n",
       "\n",
       "#\n"
      ]
     },
     "metadata": {},
     "output_type": "display_data"
    },
    {
     "name": "stdout",
     "output_type": "stream",
     "text": [
      "-------------------------------------------------------------------------------- \n",
      "\n",
      "\n"
     ]
    },
    {
     "data": {
      "text/html": [
       "<pre style=\"white-space:pre;overflow-x:auto;line-height:normal;font-family:Menlo,'DejaVu Sans Mono',consolas,'Courier New',monospace\"> Overview\n",
       "\n",
       "HelixDB is a high-performance graph-vector database with its own query language,\n",
       "Helix Query Language (HQL), designed for traversing and manipulating graph and \n",
       "vector data efficiently.\n",
       "\n",
       "## HelixDB Overview\n",
       "\n",
       "Learn about HelixDB’s architecture, features, and use cases\n",
       "\n",
       "## Installation\n",
       "\n",
       "Learn how to set up HelixDB locally or in the cloud\n",
       "\n",
       "## SQL Migration\n",
       "\n",
       "Learn how to migrate your SQL data into HelixDB\n",
       "\n",
       "## HQL (Helix Query Language)\n",
       "\n",
       "Get started with Helix Query Language\n",
       "\n",
       "Was this page helpful?\n",
       "##### Introduction\n",
       "\n",
       "- Overview\n",
       "- Examples\n",
       "\n",
       "##### What is HelixDB?\n",
       "\n",
       "- HelixDB Overview\n",
       "- What is a Graph Database?\n",
       "- What is a Vector Database?\n",
       "- What is a HQL?\n",
       "\n",
       "#\n",
       "</pre>\n"
      ],
      "text/plain": [
       " Overview\n",
       "\n",
       "HelixDB is a high-performance graph-vector database with its own query language,\n",
       "Helix Query Language (HQL), designed for traversing and manipulating graph and \n",
       "vector data efficiently.\n",
       "\n",
       "## HelixDB Overview\n",
       "\n",
       "Learn about HelixDB’s architecture, features, and use cases\n",
       "\n",
       "## Installation\n",
       "\n",
       "Learn how to set up HelixDB locally or in the cloud\n",
       "\n",
       "## SQL Migration\n",
       "\n",
       "Learn how to migrate your SQL data into HelixDB\n",
       "\n",
       "## HQL (Helix Query Language)\n",
       "\n",
       "Get started with Helix Query Language\n",
       "\n",
       "Was this page helpful?\n",
       "##### Introduction\n",
       "\n",
       "- Overview\n",
       "- Examples\n",
       "\n",
       "##### What is HelixDB?\n",
       "\n",
       "- HelixDB Overview\n",
       "- What is a Graph Database?\n",
       "- What is a Vector Database?\n",
       "- What is a HQL?\n",
       "\n",
       "#\n"
      ]
     },
     "metadata": {},
     "output_type": "display_data"
    },
    {
     "name": "stdout",
     "output_type": "stream",
     "text": [
      "-------------------------------------------------------------------------------- \n",
      "\n",
      "\n"
     ]
    }
   ],
   "source": [
    "chunks = chunker(text)\n",
    "print(f\"Total number of chunks: {len(chunks)}\")\n",
    "# @title A quick look at our chunks~\n",
    "for chunk in chunks[:4]:\n",
    "    rprint(chunk.text)\n",
    "    print('-'*80, '\\n\\n')"
   ]
  },
  {
   "cell_type": "code",
   "execution_count": 9,
   "id": "79c59d3e-aa3f-407d-8246-6896f9cdc2e4",
   "metadata": {},
   "outputs": [],
   "source": [
    "def vectorize_text(text):\n",
    "    inputs = tokenizer(text, return_tensors=\"pt\", truncation=True, padding=True, max_length=512)\n",
    "    with torch.no_grad():\n",
    "        outputs = model(**inputs)\n",
    "        embedding = outputs.last_hidden_state[:, 0, :].squeeze().tolist()\n",
    "    return embedding\n",
    "\n",
    "def vectorize_chunked(chunked: List[str]) -> List[List[float]]:\n",
    "    # embedding dims: 768\n",
    "    vectorized = []\n",
    "    for chunk in tqdm(chunked):\n",
    "        embedding = vectorize_text(chunk)\n",
    "        vectorized.append(embedding)\n",
    "    return vectorized\n",
    "\n",
    "OLLAMA_API_URL = \"http://localhost:11434/api/generate\"\n",
    "\n",
    "def get_ollama_response(prompt):\n",
    "    payload = {\n",
    "        #\"model\": \"deepseek-r1:7b\",\n",
    "        \"model\": \"llama3.1:8b\",\n",
    "        \"prompt\": prompt,\n",
    "        \"stream\": False\n",
    "    }\n",
    "    response = requests.post(OLLAMA_API_URL, json=payload)\n",
    "    if response.status_code == 200:\n",
    "        return response.json()[\"response\"]\n",
    "    else:\n",
    "        raise Exception(f\"Ollama API request failed with status {response.status_code}\")"
   ]
  },
  {
   "cell_type": "code",
   "execution_count": 10,
   "id": "ea81ee1d-a316-47f8-ac80-8027931f7333",
   "metadata": {},
   "outputs": [
    {
     "name": "stderr",
     "output_type": "stream",
     "text": [
      "100%|█████████████████████████████████████████████████████████████████████████████████████████████████████████████████████████| 30/30 [00:01<00:00, 16.04it/s]"
     ]
    },
    {
     "name": "stdout",
     "output_type": "stream",
     "text": [
      "doc length: 19802 chars, num of vectors: 30\n"
     ]
    },
    {
     "name": "stderr",
     "output_type": "stream",
     "text": [
      "\n"
     ]
    }
   ],
   "source": [
    "items = [chunk.text for chunk in chunks]\n",
    "vectors = vectorize_chunked(items)\n",
    "print(f\"doc length: {len(text)} chars, num of vectors: {len(vectors)}\")"
   ]
  },
  {
   "cell_type": "code",
   "execution_count": 11,
   "id": "67586d5b-6fe3-4b46-8e8f-7d3f49cd64e0",
   "metadata": {},
   "outputs": [],
   "source": [
    "def create_prompt(user_prompt: str, context):\n",
    "    reformated_prompt = f\"\"\"<instructions>\n",
    "    Based on the provided contexts, answer the given question to the best of your ability. Answer only from the given context.\"\n",
    "    </instructions>\n",
    "\n",
    "    <context>\n",
    "    {context}\n",
    "    </context>\n",
    "\n",
    "    <query>\n",
    "    {user_prompt}\n",
    "    </query>\n",
    "    \"\"\"\n",
    "\n",
    "    return reformated_prompt"
   ]
  },
  {
   "cell_type": "code",
   "execution_count": 24,
   "id": "5fac5349-271e-45fe-9e92-23773af0d11e",
   "metadata": {},
   "outputs": [
    {
     "name": "stdout",
     "output_type": "stream",
     "text": [
      "\u001b[32m[HELIX]\u001b[0m Helix instance found at 'http://0.0.0.0:6969'\n"
     ]
    }
   ],
   "source": [
    "db = helix.Client(local=True)\n",
    "\n",
    "class ragsearchdocs(Query):\n",
    "    def __init__(self, query_vector: List[float], k: int=4):\n",
    "        super().__init__()\n",
    "        self.query_vector = query_vector\n",
    "        self.k = k\n",
    "\n",
    "    def query(self) -> List[Payload]:\n",
    "        return [{ \"query\": self.query_vector, \"k\": self.k }]\n",
    "\n",
    "    def response(self, response):\n",
    "        return response.get('doc_node')[0]['content']"
   ]
  },
  {
   "cell_type": "code",
   "execution_count": 25,
   "id": "76304885-135c-4dfc-b28c-025ab32f4f03",
   "metadata": {},
   "outputs": [
    {
     "name": "stderr",
     "output_type": "stream",
     "text": [
      "\u001b[32m[HELIX]\u001b[0m Querying 'http://0.0.0.0:6969/ragloaddocs': 100%|███████████████████████████████████████████████████████████████████████| 1/1 [00:00<00:00,  1.11it/s]\u001b[0m\n"
     ]
    },
    {
     "data": {
      "text/plain": [
       "[None]"
      ]
     },
     "execution_count": 25,
     "metadata": {},
     "output_type": "execute_result"
    }
   ],
   "source": [
    "# insert all the docs to vectors into helix\n",
    "db.query(ragloaddocs([(text, vectors)]))"
   ]
  },
  {
   "cell_type": "code",
   "execution_count": 36,
   "id": "04e1118d-a8c3-4981-ad95-102d87a1e6b7",
   "metadata": {},
   "outputs": [
    {
     "name": "stderr",
     "output_type": "stream",
     "text": [
      "\u001b[32m[HELIX]\u001b[0m Querying 'http://0.0.0.0:6969/ragsearchdocs': 100%|█████████████████████████████████████████████████████████████████████| 1/1 [00:00<00:00, 26.08it/s]\u001b[0m\n"
     ]
    },
    {
     "name": "stdout",
     "output_type": "stream",
     "text": [
      "reponse: In Helix Query Language, you can exclude a property by using the `!` symbol followed by the name of the property. For example:\n",
      "\n",
      "```\n",
      "SELECT !property_name\n",
      "FROM my_table\n",
      "```\n",
      "\n",
      "This will return all rows from `my_table`, but with the `property_name` column excluded.\n",
      "\n",
      "Note that this is just one way to exclude properties in Helix Query Language. The specific syntax may vary depending on your use case and requirements.\n",
      "\n",
      "Here are some additional examples:\n",
      "\n",
      "* To select all columns except `column1`, you can use: `SELECT !column1`\n",
      "* To select all columns except `column1` and `column2`, you can use: `SELECT !column1, !column2`\n",
      "\n",
      "Keep in mind that when excluding properties, the resulting data will have fewer columns than the original table. If you need to work with the full dataset, including all columns, you should not exclude any properties.\n"
     ]
    }
   ],
   "source": [
    "user_prompt = \"how do I exclude a property in helix qeury language?\"\n",
    "query_embedding = vectorize_text(user_prompt)\n",
    "res = db.query(ragsearchdocs(query_embedding, 4))[0]\n",
    "assert(len(res) > 5)\n",
    "response = get_ollama_response(create_prompt(user_prompt, res))\n",
    "print(f\"reponse: {response}\")"
   ]
  },
  {
   "cell_type": "code",
   "execution_count": null,
   "id": "9b36c5dc-701e-4cf6-9eed-03f62d7e3b9e",
   "metadata": {},
   "outputs": [],
   "source": []
  }
 ],
 "metadata": {
  "kernelspec": {
   "display_name": "notebook_venv",
   "language": "python",
   "name": "notebook_venv"
  },
  "language_info": {
   "codemirror_mode": {
    "name": "ipython",
    "version": 3
   },
   "file_extension": ".py",
   "mimetype": "text/x-python",
   "name": "python",
   "nbconvert_exporter": "python",
   "pygments_lexer": "ipython3",
   "version": "3.12.10"
  }
 },
 "nbformat": 4,
 "nbformat_minor": 5
}
